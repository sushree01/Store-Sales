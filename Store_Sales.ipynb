{
 "cells": [
  {
   "cell_type": "markdown",
   "id": "3310398b",
   "metadata": {},
   "source": [
    "## 1.Importing the Required Libraries"
   ]
  },
  {
   "cell_type": "code",
   "execution_count": 1,
   "id": "fa3ae0fc",
   "metadata": {},
   "outputs": [],
   "source": [
    "import numpy as np\n",
    "import pandas as pd\n",
    "import matplotlib.pyplot as plt\n",
    "import seaborn as sns"
   ]
  },
  {
   "cell_type": "code",
   "execution_count": 2,
   "id": "8d18a52c",
   "metadata": {},
   "outputs": [],
   "source": [
    "from warnings import filterwarnings\n",
    "filterwarnings('ignore')"
   ]
  },
  {
   "cell_type": "code",
   "execution_count": 3,
   "id": "1034ed9a",
   "metadata": {},
   "outputs": [],
   "source": [
    "from sklearn.preprocessing import StandardScaler,MinMaxScaler\n",
    "from sklearn.model_selection import train_test_split\n",
    "from sklearn.decomposition import PCA"
   ]
  },
  {
   "cell_type": "code",
   "execution_count": 4,
   "id": "7373d6f5",
   "metadata": {},
   "outputs": [],
   "source": [
    "from sklearn.linear_model import LinearRegression,SGDRegressor\n",
    "from sklearn.tree import DecisionTreeRegressor\n",
    "from sklearn.ensemble import RandomForestRegressor,GradientBoostingRegressor,AdaBoostRegressor\n",
    "from xgboost import XGBRegressor\n",
    "from sklearn.svm import SVR\n",
    "from lightgbm import LGBMRegressor\n",
    "from sklearn.neighbors import KNeighborsRegressor"
   ]
  },
  {
   "cell_type": "code",
   "execution_count": 5,
   "id": "8f71fe6e",
   "metadata": {},
   "outputs": [],
   "source": [
    "from sklearn.metrics import mean_squared_error,r2_score"
   ]
  },
  {
   "cell_type": "markdown",
   "id": "ba4e6f47",
   "metadata": {},
   "source": [
    "## 2.Loading the Dataset"
   ]
  },
  {
   "cell_type": "code",
   "execution_count": 7,
   "id": "6ed15de6",
   "metadata": {},
   "outputs": [
    {
     "data": {
      "text/plain": [
       "(982644, 9)"
      ]
     },
     "execution_count": 7,
     "metadata": {},
     "output_type": "execute_result"
    }
   ],
   "source": [
    "df_train=pd.read_csv('C:/Users/Sushree Jena/Desktop/imarticus/machine learning/Store_sales_data/train_data.csv',parse_dates=['Date'])\n",
    "df_train.shape"
   ]
  },
  {
   "cell_type": "code",
   "execution_count": 8,
   "id": "90883bcb",
   "metadata": {},
   "outputs": [
    {
     "data": {
      "text/html": [
       "<div>\n",
       "<style scoped>\n",
       "    .dataframe tbody tr th:only-of-type {\n",
       "        vertical-align: middle;\n",
       "    }\n",
       "\n",
       "    .dataframe tbody tr th {\n",
       "        vertical-align: top;\n",
       "    }\n",
       "\n",
       "    .dataframe thead th {\n",
       "        text-align: right;\n",
       "    }\n",
       "</style>\n",
       "<table border=\"1\" class=\"dataframe\">\n",
       "  <thead>\n",
       "    <tr style=\"text-align: right;\">\n",
       "      <th></th>\n",
       "      <th>Store</th>\n",
       "      <th>DayOfWeek</th>\n",
       "      <th>Date</th>\n",
       "      <th>Sales</th>\n",
       "      <th>Customers</th>\n",
       "      <th>Open</th>\n",
       "      <th>Promo</th>\n",
       "      <th>StateHoliday</th>\n",
       "      <th>SchoolHoliday</th>\n",
       "    </tr>\n",
       "  </thead>\n",
       "  <tbody>\n",
       "    <tr>\n",
       "      <th>0</th>\n",
       "      <td>1</td>\n",
       "      <td>2</td>\n",
       "      <td>2015-06-30</td>\n",
       "      <td>5735</td>\n",
       "      <td>568</td>\n",
       "      <td>1</td>\n",
       "      <td>1</td>\n",
       "      <td>0</td>\n",
       "      <td>0</td>\n",
       "    </tr>\n",
       "    <tr>\n",
       "      <th>1</th>\n",
       "      <td>2</td>\n",
       "      <td>2</td>\n",
       "      <td>2015-06-30</td>\n",
       "      <td>9863</td>\n",
       "      <td>877</td>\n",
       "      <td>1</td>\n",
       "      <td>1</td>\n",
       "      <td>0</td>\n",
       "      <td>0</td>\n",
       "    </tr>\n",
       "    <tr>\n",
       "      <th>2</th>\n",
       "      <td>3</td>\n",
       "      <td>2</td>\n",
       "      <td>2015-06-30</td>\n",
       "      <td>13261</td>\n",
       "      <td>1072</td>\n",
       "      <td>1</td>\n",
       "      <td>1</td>\n",
       "      <td>0</td>\n",
       "      <td>1</td>\n",
       "    </tr>\n",
       "    <tr>\n",
       "      <th>3</th>\n",
       "      <td>4</td>\n",
       "      <td>2</td>\n",
       "      <td>2015-06-30</td>\n",
       "      <td>13106</td>\n",
       "      <td>1488</td>\n",
       "      <td>1</td>\n",
       "      <td>1</td>\n",
       "      <td>0</td>\n",
       "      <td>0</td>\n",
       "    </tr>\n",
       "    <tr>\n",
       "      <th>4</th>\n",
       "      <td>5</td>\n",
       "      <td>2</td>\n",
       "      <td>2015-06-30</td>\n",
       "      <td>6635</td>\n",
       "      <td>645</td>\n",
       "      <td>1</td>\n",
       "      <td>1</td>\n",
       "      <td>0</td>\n",
       "      <td>0</td>\n",
       "    </tr>\n",
       "  </tbody>\n",
       "</table>\n",
       "</div>"
      ],
      "text/plain": [
       "   Store  DayOfWeek       Date  Sales  Customers  Open  Promo StateHoliday  \\\n",
       "0      1          2 2015-06-30   5735        568     1      1            0   \n",
       "1      2          2 2015-06-30   9863        877     1      1            0   \n",
       "2      3          2 2015-06-30  13261       1072     1      1            0   \n",
       "3      4          2 2015-06-30  13106       1488     1      1            0   \n",
       "4      5          2 2015-06-30   6635        645     1      1            0   \n",
       "\n",
       "   SchoolHoliday  \n",
       "0              0  \n",
       "1              0  \n",
       "2              1  \n",
       "3              0  \n",
       "4              0  "
      ]
     },
     "execution_count": 8,
     "metadata": {},
     "output_type": "execute_result"
    }
   ],
   "source": [
    "df_train.head()"
   ]
  },
  {
   "cell_type": "code",
   "execution_count": 9,
   "id": "84a669a4",
   "metadata": {},
   "outputs": [
    {
     "data": {
      "text/plain": [
       "(34565, 9)"
      ]
     },
     "execution_count": 9,
     "metadata": {},
     "output_type": "execute_result"
    }
   ],
   "source": [
    "df_test=pd.read_csv('C:/Users/Sushree Jena/Desktop/imarticus/machine learning/Store_sales_data/test_data_hidden.csv',parse_dates=['Date'])\n",
    "df_test.shape"
   ]
  },
  {
   "cell_type": "code",
   "execution_count": 10,
   "id": "adc15b96",
   "metadata": {},
   "outputs": [
    {
     "data": {
      "text/html": [
       "<div>\n",
       "<style scoped>\n",
       "    .dataframe tbody tr th:only-of-type {\n",
       "        vertical-align: middle;\n",
       "    }\n",
       "\n",
       "    .dataframe tbody tr th {\n",
       "        vertical-align: top;\n",
       "    }\n",
       "\n",
       "    .dataframe thead th {\n",
       "        text-align: right;\n",
       "    }\n",
       "</style>\n",
       "<table border=\"1\" class=\"dataframe\">\n",
       "  <thead>\n",
       "    <tr style=\"text-align: right;\">\n",
       "      <th></th>\n",
       "      <th>Store</th>\n",
       "      <th>DayOfWeek</th>\n",
       "      <th>Date</th>\n",
       "      <th>Sales</th>\n",
       "      <th>Customers</th>\n",
       "      <th>Open</th>\n",
       "      <th>Promo</th>\n",
       "      <th>StateHoliday</th>\n",
       "      <th>SchoolHoliday</th>\n",
       "    </tr>\n",
       "  </thead>\n",
       "  <tbody>\n",
       "    <tr>\n",
       "      <th>0</th>\n",
       "      <td>1</td>\n",
       "      <td>5</td>\n",
       "      <td>2015-07-31</td>\n",
       "      <td>5263</td>\n",
       "      <td>555</td>\n",
       "      <td>1</td>\n",
       "      <td>1</td>\n",
       "      <td>0</td>\n",
       "      <td>1</td>\n",
       "    </tr>\n",
       "    <tr>\n",
       "      <th>1</th>\n",
       "      <td>2</td>\n",
       "      <td>5</td>\n",
       "      <td>2015-07-31</td>\n",
       "      <td>6064</td>\n",
       "      <td>625</td>\n",
       "      <td>1</td>\n",
       "      <td>1</td>\n",
       "      <td>0</td>\n",
       "      <td>1</td>\n",
       "    </tr>\n",
       "    <tr>\n",
       "      <th>2</th>\n",
       "      <td>3</td>\n",
       "      <td>5</td>\n",
       "      <td>2015-07-31</td>\n",
       "      <td>8314</td>\n",
       "      <td>821</td>\n",
       "      <td>1</td>\n",
       "      <td>1</td>\n",
       "      <td>0</td>\n",
       "      <td>1</td>\n",
       "    </tr>\n",
       "    <tr>\n",
       "      <th>3</th>\n",
       "      <td>4</td>\n",
       "      <td>5</td>\n",
       "      <td>2015-07-31</td>\n",
       "      <td>13995</td>\n",
       "      <td>1498</td>\n",
       "      <td>1</td>\n",
       "      <td>1</td>\n",
       "      <td>0</td>\n",
       "      <td>1</td>\n",
       "    </tr>\n",
       "    <tr>\n",
       "      <th>4</th>\n",
       "      <td>5</td>\n",
       "      <td>5</td>\n",
       "      <td>2015-07-31</td>\n",
       "      <td>4822</td>\n",
       "      <td>559</td>\n",
       "      <td>1</td>\n",
       "      <td>1</td>\n",
       "      <td>0</td>\n",
       "      <td>1</td>\n",
       "    </tr>\n",
       "  </tbody>\n",
       "</table>\n",
       "</div>"
      ],
      "text/plain": [
       "   Store  DayOfWeek       Date  Sales  Customers  Open  Promo  StateHoliday  \\\n",
       "0      1          5 2015-07-31   5263        555     1      1             0   \n",
       "1      2          5 2015-07-31   6064        625     1      1             0   \n",
       "2      3          5 2015-07-31   8314        821     1      1             0   \n",
       "3      4          5 2015-07-31  13995       1498     1      1             0   \n",
       "4      5          5 2015-07-31   4822        559     1      1             0   \n",
       "\n",
       "   SchoolHoliday  \n",
       "0              1  \n",
       "1              1  \n",
       "2              1  \n",
       "3              1  \n",
       "4              1  "
      ]
     },
     "execution_count": 10,
     "metadata": {},
     "output_type": "execute_result"
    }
   ],
   "source": [
    "df_test.head()"
   ]
  },
  {
   "cell_type": "markdown",
   "id": "0a6f0fa6",
   "metadata": {},
   "source": [
    "## 3.Exploratory Data Analysis"
   ]
  },
  {
   "cell_type": "code",
   "execution_count": 11,
   "id": "bc213564",
   "metadata": {},
   "outputs": [
    {
     "name": "stdout",
     "output_type": "stream",
     "text": [
      "<class 'pandas.core.frame.DataFrame'>\n",
      "RangeIndex: 982644 entries, 0 to 982643\n",
      "Data columns (total 9 columns):\n",
      " #   Column         Non-Null Count   Dtype         \n",
      "---  ------         --------------   -----         \n",
      " 0   Store          982644 non-null  int64         \n",
      " 1   DayOfWeek      982644 non-null  int64         \n",
      " 2   Date           982644 non-null  datetime64[ns]\n",
      " 3   Sales          982644 non-null  int64         \n",
      " 4   Customers      982644 non-null  int64         \n",
      " 5   Open           982644 non-null  int64         \n",
      " 6   Promo          982644 non-null  int64         \n",
      " 7   StateHoliday   982644 non-null  object        \n",
      " 8   SchoolHoliday  982644 non-null  int64         \n",
      "dtypes: datetime64[ns](1), int64(7), object(1)\n",
      "memory usage: 67.5+ MB\n"
     ]
    }
   ],
   "source": [
    "df_train.info()"
   ]
  },
  {
   "cell_type": "code",
   "execution_count": 12,
   "id": "c6555791",
   "metadata": {},
   "outputs": [
    {
     "name": "stdout",
     "output_type": "stream",
     "text": [
      "<class 'pandas.core.frame.DataFrame'>\n",
      "RangeIndex: 34565 entries, 0 to 34564\n",
      "Data columns (total 9 columns):\n",
      " #   Column         Non-Null Count  Dtype         \n",
      "---  ------         --------------  -----         \n",
      " 0   Store          34565 non-null  int64         \n",
      " 1   DayOfWeek      34565 non-null  int64         \n",
      " 2   Date           34565 non-null  datetime64[ns]\n",
      " 3   Sales          34565 non-null  int64         \n",
      " 4   Customers      34565 non-null  int64         \n",
      " 5   Open           34565 non-null  int64         \n",
      " 6   Promo          34565 non-null  int64         \n",
      " 7   StateHoliday   34565 non-null  int64         \n",
      " 8   SchoolHoliday  34565 non-null  int64         \n",
      "dtypes: datetime64[ns](1), int64(8)\n",
      "memory usage: 2.4 MB\n"
     ]
    }
   ],
   "source": [
    "df_test.info()"
   ]
  },
  {
   "cell_type": "markdown",
   "id": "2d9a2703",
   "metadata": {},
   "source": [
    "We will merge the two datasets for the ease of performing Exploratory Data Analysis. While building the models, we will separate it again."
   ]
  },
  {
   "cell_type": "code",
   "execution_count": 13,
   "id": "90090f7c",
   "metadata": {},
   "outputs": [],
   "source": [
    "df_train['source']='train'\n",
    "df_test['source']='test'"
   ]
  },
  {
   "cell_type": "code",
   "execution_count": 14,
   "id": "296049c9",
   "metadata": {},
   "outputs": [
    {
     "data": {
      "text/plain": [
       "(1017209, 10)"
      ]
     },
     "execution_count": 14,
     "metadata": {},
     "output_type": "execute_result"
    }
   ],
   "source": [
    "df_sale=pd.concat([df_train,df_test],ignore_index=True)\n",
    "df_sale.shape"
   ]
  },
  {
   "cell_type": "code",
   "execution_count": 15,
   "id": "0a40f1d3",
   "metadata": {},
   "outputs": [
    {
     "data": {
      "text/html": [
       "<div>\n",
       "<style scoped>\n",
       "    .dataframe tbody tr th:only-of-type {\n",
       "        vertical-align: middle;\n",
       "    }\n",
       "\n",
       "    .dataframe tbody tr th {\n",
       "        vertical-align: top;\n",
       "    }\n",
       "\n",
       "    .dataframe thead th {\n",
       "        text-align: right;\n",
       "    }\n",
       "</style>\n",
       "<table border=\"1\" class=\"dataframe\">\n",
       "  <thead>\n",
       "    <tr style=\"text-align: right;\">\n",
       "      <th></th>\n",
       "      <th>Store</th>\n",
       "      <th>DayOfWeek</th>\n",
       "      <th>Date</th>\n",
       "      <th>Sales</th>\n",
       "      <th>Customers</th>\n",
       "      <th>Open</th>\n",
       "      <th>Promo</th>\n",
       "      <th>StateHoliday</th>\n",
       "      <th>SchoolHoliday</th>\n",
       "      <th>source</th>\n",
       "    </tr>\n",
       "  </thead>\n",
       "  <tbody>\n",
       "    <tr>\n",
       "      <th>0</th>\n",
       "      <td>1</td>\n",
       "      <td>2</td>\n",
       "      <td>2015-06-30</td>\n",
       "      <td>5735</td>\n",
       "      <td>568</td>\n",
       "      <td>1</td>\n",
       "      <td>1</td>\n",
       "      <td>0</td>\n",
       "      <td>0</td>\n",
       "      <td>train</td>\n",
       "    </tr>\n",
       "    <tr>\n",
       "      <th>1</th>\n",
       "      <td>2</td>\n",
       "      <td>2</td>\n",
       "      <td>2015-06-30</td>\n",
       "      <td>9863</td>\n",
       "      <td>877</td>\n",
       "      <td>1</td>\n",
       "      <td>1</td>\n",
       "      <td>0</td>\n",
       "      <td>0</td>\n",
       "      <td>train</td>\n",
       "    </tr>\n",
       "    <tr>\n",
       "      <th>2</th>\n",
       "      <td>3</td>\n",
       "      <td>2</td>\n",
       "      <td>2015-06-30</td>\n",
       "      <td>13261</td>\n",
       "      <td>1072</td>\n",
       "      <td>1</td>\n",
       "      <td>1</td>\n",
       "      <td>0</td>\n",
       "      <td>1</td>\n",
       "      <td>train</td>\n",
       "    </tr>\n",
       "    <tr>\n",
       "      <th>3</th>\n",
       "      <td>4</td>\n",
       "      <td>2</td>\n",
       "      <td>2015-06-30</td>\n",
       "      <td>13106</td>\n",
       "      <td>1488</td>\n",
       "      <td>1</td>\n",
       "      <td>1</td>\n",
       "      <td>0</td>\n",
       "      <td>0</td>\n",
       "      <td>train</td>\n",
       "    </tr>\n",
       "    <tr>\n",
       "      <th>4</th>\n",
       "      <td>5</td>\n",
       "      <td>2</td>\n",
       "      <td>2015-06-30</td>\n",
       "      <td>6635</td>\n",
       "      <td>645</td>\n",
       "      <td>1</td>\n",
       "      <td>1</td>\n",
       "      <td>0</td>\n",
       "      <td>0</td>\n",
       "      <td>train</td>\n",
       "    </tr>\n",
       "  </tbody>\n",
       "</table>\n",
       "</div>"
      ],
      "text/plain": [
       "   Store  DayOfWeek       Date  Sales  Customers  Open  Promo StateHoliday  \\\n",
       "0      1          2 2015-06-30   5735        568     1      1            0   \n",
       "1      2          2 2015-06-30   9863        877     1      1            0   \n",
       "2      3          2 2015-06-30  13261       1072     1      1            0   \n",
       "3      4          2 2015-06-30  13106       1488     1      1            0   \n",
       "4      5          2 2015-06-30   6635        645     1      1            0   \n",
       "\n",
       "   SchoolHoliday source  \n",
       "0              0  train  \n",
       "1              0  train  \n",
       "2              1  train  \n",
       "3              0  train  \n",
       "4              0  train  "
      ]
     },
     "execution_count": 15,
     "metadata": {},
     "output_type": "execute_result"
    }
   ],
   "source": [
    "df_sale.head()"
   ]
  },
  {
   "cell_type": "code",
   "execution_count": 16,
   "id": "dfb3eff0",
   "metadata": {},
   "outputs": [],
   "source": [
    "## Summary Statistics"
   ]
  },
  {
   "cell_type": "code",
   "execution_count": 17,
   "id": "9a702dcb",
   "metadata": {},
   "outputs": [
    {
     "data": {
      "text/html": [
       "<div>\n",
       "<style scoped>\n",
       "    .dataframe tbody tr th:only-of-type {\n",
       "        vertical-align: middle;\n",
       "    }\n",
       "\n",
       "    .dataframe tbody tr th {\n",
       "        vertical-align: top;\n",
       "    }\n",
       "\n",
       "    .dataframe thead th {\n",
       "        text-align: right;\n",
       "    }\n",
       "</style>\n",
       "<table border=\"1\" class=\"dataframe\">\n",
       "  <thead>\n",
       "    <tr style=\"text-align: right;\">\n",
       "      <th></th>\n",
       "      <th>Store</th>\n",
       "      <th>DayOfWeek</th>\n",
       "      <th>Sales</th>\n",
       "      <th>Customers</th>\n",
       "      <th>Open</th>\n",
       "      <th>Promo</th>\n",
       "      <th>SchoolHoliday</th>\n",
       "    </tr>\n",
       "  </thead>\n",
       "  <tbody>\n",
       "    <tr>\n",
       "      <th>count</th>\n",
       "      <td>1.017209e+06</td>\n",
       "      <td>1.017209e+06</td>\n",
       "      <td>1.017209e+06</td>\n",
       "      <td>1.017209e+06</td>\n",
       "      <td>1.017209e+06</td>\n",
       "      <td>1.017209e+06</td>\n",
       "      <td>1.017209e+06</td>\n",
       "    </tr>\n",
       "    <tr>\n",
       "      <th>mean</th>\n",
       "      <td>5.584297e+02</td>\n",
       "      <td>3.998341e+00</td>\n",
       "      <td>5.773819e+03</td>\n",
       "      <td>6.331459e+02</td>\n",
       "      <td>8.301067e-01</td>\n",
       "      <td>3.815145e-01</td>\n",
       "      <td>1.786467e-01</td>\n",
       "    </tr>\n",
       "    <tr>\n",
       "      <th>std</th>\n",
       "      <td>3.219087e+02</td>\n",
       "      <td>1.997391e+00</td>\n",
       "      <td>3.849926e+03</td>\n",
       "      <td>4.644117e+02</td>\n",
       "      <td>3.755392e-01</td>\n",
       "      <td>4.857586e-01</td>\n",
       "      <td>3.830564e-01</td>\n",
       "    </tr>\n",
       "    <tr>\n",
       "      <th>min</th>\n",
       "      <td>1.000000e+00</td>\n",
       "      <td>1.000000e+00</td>\n",
       "      <td>0.000000e+00</td>\n",
       "      <td>0.000000e+00</td>\n",
       "      <td>0.000000e+00</td>\n",
       "      <td>0.000000e+00</td>\n",
       "      <td>0.000000e+00</td>\n",
       "    </tr>\n",
       "    <tr>\n",
       "      <th>25%</th>\n",
       "      <td>2.800000e+02</td>\n",
       "      <td>2.000000e+00</td>\n",
       "      <td>3.727000e+03</td>\n",
       "      <td>4.050000e+02</td>\n",
       "      <td>1.000000e+00</td>\n",
       "      <td>0.000000e+00</td>\n",
       "      <td>0.000000e+00</td>\n",
       "    </tr>\n",
       "    <tr>\n",
       "      <th>50%</th>\n",
       "      <td>5.580000e+02</td>\n",
       "      <td>4.000000e+00</td>\n",
       "      <td>5.744000e+03</td>\n",
       "      <td>6.090000e+02</td>\n",
       "      <td>1.000000e+00</td>\n",
       "      <td>0.000000e+00</td>\n",
       "      <td>0.000000e+00</td>\n",
       "    </tr>\n",
       "    <tr>\n",
       "      <th>75%</th>\n",
       "      <td>8.380000e+02</td>\n",
       "      <td>6.000000e+00</td>\n",
       "      <td>7.856000e+03</td>\n",
       "      <td>8.370000e+02</td>\n",
       "      <td>1.000000e+00</td>\n",
       "      <td>1.000000e+00</td>\n",
       "      <td>0.000000e+00</td>\n",
       "    </tr>\n",
       "    <tr>\n",
       "      <th>max</th>\n",
       "      <td>1.115000e+03</td>\n",
       "      <td>7.000000e+00</td>\n",
       "      <td>4.155100e+04</td>\n",
       "      <td>7.388000e+03</td>\n",
       "      <td>1.000000e+00</td>\n",
       "      <td>1.000000e+00</td>\n",
       "      <td>1.000000e+00</td>\n",
       "    </tr>\n",
       "  </tbody>\n",
       "</table>\n",
       "</div>"
      ],
      "text/plain": [
       "              Store     DayOfWeek         Sales     Customers          Open  \\\n",
       "count  1.017209e+06  1.017209e+06  1.017209e+06  1.017209e+06  1.017209e+06   \n",
       "mean   5.584297e+02  3.998341e+00  5.773819e+03  6.331459e+02  8.301067e-01   \n",
       "std    3.219087e+02  1.997391e+00  3.849926e+03  4.644117e+02  3.755392e-01   \n",
       "min    1.000000e+00  1.000000e+00  0.000000e+00  0.000000e+00  0.000000e+00   \n",
       "25%    2.800000e+02  2.000000e+00  3.727000e+03  4.050000e+02  1.000000e+00   \n",
       "50%    5.580000e+02  4.000000e+00  5.744000e+03  6.090000e+02  1.000000e+00   \n",
       "75%    8.380000e+02  6.000000e+00  7.856000e+03  8.370000e+02  1.000000e+00   \n",
       "max    1.115000e+03  7.000000e+00  4.155100e+04  7.388000e+03  1.000000e+00   \n",
       "\n",
       "              Promo  SchoolHoliday  \n",
       "count  1.017209e+06   1.017209e+06  \n",
       "mean   3.815145e-01   1.786467e-01  \n",
       "std    4.857586e-01   3.830564e-01  \n",
       "min    0.000000e+00   0.000000e+00  \n",
       "25%    0.000000e+00   0.000000e+00  \n",
       "50%    0.000000e+00   0.000000e+00  \n",
       "75%    1.000000e+00   0.000000e+00  \n",
       "max    1.000000e+00   1.000000e+00  "
      ]
     },
     "execution_count": 17,
     "metadata": {},
     "output_type": "execute_result"
    }
   ],
   "source": [
    "df_sale.describe()"
   ]
  },
  {
   "cell_type": "code",
   "execution_count": 18,
   "id": "6a2f9d3f",
   "metadata": {},
   "outputs": [],
   "source": [
    "#Checking for Missing Values"
   ]
  },
  {
   "cell_type": "code",
   "execution_count": 19,
   "id": "08b930a0",
   "metadata": {},
   "outputs": [
    {
     "data": {
      "text/plain": [
       "Store            0\n",
       "DayOfWeek        0\n",
       "Date             0\n",
       "Sales            0\n",
       "Customers        0\n",
       "Open             0\n",
       "Promo            0\n",
       "StateHoliday     0\n",
       "SchoolHoliday    0\n",
       "source           0\n",
       "dtype: int64"
      ]
     },
     "execution_count": 19,
     "metadata": {},
     "output_type": "execute_result"
    }
   ],
   "source": [
    "df_sale.isnull().sum()"
   ]
  },
  {
   "cell_type": "markdown",
   "id": "cbe13e25",
   "metadata": {},
   "source": [
    "We can see that there are no missing values in the data."
   ]
  },
  {
   "cell_type": "code",
   "execution_count": 20,
   "id": "0193bdcf",
   "metadata": {},
   "outputs": [],
   "source": [
    "#Separating the numeric columns and plotting them against the target variable"
   ]
  },
  {
   "cell_type": "code",
   "execution_count": 21,
   "id": "b739eb11",
   "metadata": {},
   "outputs": [
    {
     "data": {
      "text/plain": [
       "Index(['Store', 'DayOfWeek', 'Sales', 'Customers', 'Open', 'Promo',\n",
       "       'SchoolHoliday'],\n",
       "      dtype='object')"
      ]
     },
     "execution_count": 21,
     "metadata": {},
     "output_type": "execute_result"
    }
   ],
   "source": [
    "num_cols=df_sale.select_dtypes(include=np.number)\n",
    "num_cols.columns"
   ]
  },
  {
   "cell_type": "code",
   "execution_count": 22,
   "id": "9a2e985d",
   "metadata": {},
   "outputs": [
    {
     "data": {
      "image/png": "[encoded data removed]",
      "text/plain": [
       "<Figure size 432x288 with 1 Axes>"
      ]
     },
     "metadata": {
      "needs_background": "light"
     },
     "output_type": "display_data"
    },
    {
     "data": {
      "image/png": "[encoded data removed]",
      "text/plain": [
       "<Figure size 432x288 with 1 Axes>"
      ]
     },
     "metadata": {
      "needs_background": "light"
     },
     "output_type": "display_data"
    },
    {
     "data": {
      "image/png": "[encoded data removed]",
      "text/plain": [
       "<Figure size 432x288 with 1 Axes>"
      ]
     },
     "metadata": {
      "needs_background": "light"
     },
     "output_type": "display_data"
    },
    {
     "data": {
      "image/png": "[encoded data removed]",
      "text/plain": [
       "<Figure size 432x288 with 1 Axes>"
      ]
     },
     "metadata": {
      "needs_background": "light"
     },
     "output_type": "display_data"
    },
    {
     "data": {
      "image/png": "[encoded data removed]",
      "text/plain": [
       "<Figure size 432x288 with 1 Axes>"
      ]
     },
     "metadata": {
      "needs_background": "light"
     },
     "output_type": "display_data"
    },
    {
     "data": {
      "image/png": "[encoded data removed]",
      "text/plain": [
       "<Figure size 432x288 with 1 Axes>"
      ]
     },
     "metadata": {
      "needs_background": "light"
     },
     "output_type": "display_data"
    }
   ],
   "source": [
    "cols=['Store', 'DayOfWeek', 'Customers', 'Open', 'Promo',\n",
    "       'SchoolHoliday']\n",
    "\n",
    "for col in cols:\n",
    "    sns.boxplot(x=col,data=df_sale)\n",
    "    plt.show()"
   ]
  },
  {
   "cell_type": "code",
   "execution_count": 23,
   "id": "3ee9cc69",
   "metadata": {},
   "outputs": [
    {
     "data": {
      "image/png": "[encoded data removed]",
      "text/plain": [
       "<Figure size 432x288 with 1 Axes>"
      ]
     },
     "metadata": {
      "needs_background": "light"
     },
     "output_type": "display_data"
    }
   ],
   "source": [
    "sns.barplot(x='DayOfWeek',y='Customers',data=df_sale)\n",
    "plt.show()"
   ]
  },
  {
   "cell_type": "markdown",
   "id": "77721891",
   "metadata": {},
   "source": [
    "Sunday has maximum sales"
   ]
  },
  {
   "cell_type": "code",
   "execution_count": 24,
   "id": "78936d92",
   "metadata": {},
   "outputs": [
    {
     "data": {
      "text/plain": [
       "DayOfWeek\n",
       "1    41551\n",
       "2    34692\n",
       "3    33151\n",
       "4    38367\n",
       "5    38722\n",
       "6    31683\n",
       "7    37376\n",
       "Name: Sales, dtype: int64"
      ]
     },
     "execution_count": 24,
     "metadata": {},
     "output_type": "execute_result"
    }
   ],
   "source": [
    "df_sale.groupby('DayOfWeek')['Sales'].max()"
   ]
  },
  {
   "cell_type": "code",
   "execution_count": 25,
   "id": "0702c8b7",
   "metadata": {},
   "outputs": [
    {
     "data": {
      "image/png": "[encoded data removed]",
      "text/plain": [
       "<Figure size 432x288 with 1 Axes>"
      ]
     },
     "metadata": {
      "needs_background": "light"
     },
     "output_type": "display_data"
    }
   ],
   "source": [
    "sns.countplot(x='StateHoliday',data=df_sale)\n",
    "plt.show()"
   ]
  },
  {
   "cell_type": "markdown",
   "id": "edb95f6c",
   "metadata": {},
   "source": [
    "From the dataset, we donot have clear description about StateHoliday. So, let's drop it and replace it using USFederalHoliday"
   ]
  },
  {
   "cell_type": "code",
   "execution_count": 26,
   "id": "b7b81630",
   "metadata": {},
   "outputs": [],
   "source": [
    "df_sale=df_sale.drop('StateHoliday',axis=1)"
   ]
  },
  {
   "cell_type": "code",
   "execution_count": 27,
   "id": "c930f75b",
   "metadata": {},
   "outputs": [
    {
     "data": {
      "text/plain": [
       "(Timestamp('2013-01-01 00:00:00'), Timestamp('2015-07-31 00:00:00'))"
      ]
     },
     "execution_count": 27,
     "metadata": {},
     "output_type": "execute_result"
    }
   ],
   "source": [
    "df_sale.Date.min(),df_sale.Date.max()"
   ]
  },
  {
   "cell_type": "code",
   "execution_count": 28,
   "id": "9d0b6ad5",
   "metadata": {},
   "outputs": [],
   "source": [
    "#pip install holidays"
   ]
  },
  {
   "cell_type": "code",
   "execution_count": 29,
   "id": "37ab5906",
   "metadata": {},
   "outputs": [
    {
     "name": "stdout",
     "output_type": "stream",
     "text": [
      "          Date  Holiday\n",
      "0   2013-01-01     True\n",
      "1   2013-01-02    False\n",
      "2   2013-01-03    False\n",
      "3   2013-01-04    False\n",
      "4   2013-01-05    False\n",
      "..         ...      ...\n",
      "937 2015-07-27    False\n",
      "938 2015-07-28    False\n",
      "939 2015-07-29    False\n",
      "940 2015-07-30    False\n",
      "941 2015-07-31    False\n",
      "\n",
      "[942 rows x 2 columns]\n"
     ]
    }
   ],
   "source": [
    "import pandas as pd\n",
    "from pandas.tseries.holiday import USFederalHolidayCalendar as calendar\n",
    "\n",
    "dr = pd.date_range(start='2013-01-01', end='2015-07-31')\n",
    "df = pd.DataFrame()\n",
    "df['Date'] = dr\n",
    "\n",
    "cal = calendar()\n",
    "holidays = cal.holidays(start=dr.min(), end=dr.max())\n",
    "\n",
    "df['Holiday'] = df['Date'].isin(holidays)\n",
    "print(df)"
   ]
  },
  {
   "cell_type": "code",
   "execution_count": 31,
   "id": "97777237",
   "metadata": {},
   "outputs": [],
   "source": [
    "#Taking a backup"
   ]
  },
  {
   "cell_type": "code",
   "execution_count": 34,
   "id": "572d9353",
   "metadata": {},
   "outputs": [],
   "source": [
    "df_sale1=df_sale.copy(deep=True)"
   ]
  },
  {
   "cell_type": "code",
   "execution_count": 35,
   "id": "b797369d",
   "metadata": {},
   "outputs": [],
   "source": [
    "#merging the Date column in the original dataset"
   ]
  },
  {
   "cell_type": "code",
   "execution_count": 36,
   "id": "efce10a0",
   "metadata": {},
   "outputs": [],
   "source": [
    "df_sale1=df_sale1.merge(df,on='Date',how='left')"
   ]
  },
  {
   "cell_type": "code",
   "execution_count": 37,
   "id": "384574a7",
   "metadata": {},
   "outputs": [
    {
     "data": {
      "text/plain": [
       "False    990415\n",
       "True      26794\n",
       "Name: Holiday, dtype: int64"
      ]
     },
     "execution_count": 37,
     "metadata": {},
     "output_type": "execute_result"
    }
   ],
   "source": [
    "df_sale1.Holiday.value_counts()"
   ]
  },
  {
   "cell_type": "code",
   "execution_count": 38,
   "id": "9951b6d7",
   "metadata": {},
   "outputs": [
    {
     "data": {
      "text/html": [
       "<div>\n",
       "<style scoped>\n",
       "    .dataframe tbody tr th:only-of-type {\n",
       "        vertical-align: middle;\n",
       "    }\n",
       "\n",
       "    .dataframe tbody tr th {\n",
       "        vertical-align: top;\n",
       "    }\n",
       "\n",
       "    .dataframe thead th {\n",
       "        text-align: right;\n",
       "    }\n",
       "</style>\n",
       "<table border=\"1\" class=\"dataframe\">\n",
       "  <thead>\n",
       "    <tr style=\"text-align: right;\">\n",
       "      <th></th>\n",
       "      <th>Store</th>\n",
       "      <th>DayOfWeek</th>\n",
       "      <th>Date</th>\n",
       "      <th>Sales</th>\n",
       "      <th>Customers</th>\n",
       "      <th>Open</th>\n",
       "      <th>Promo</th>\n",
       "      <th>SchoolHoliday</th>\n",
       "      <th>source</th>\n",
       "      <th>Holiday</th>\n",
       "    </tr>\n",
       "  </thead>\n",
       "  <tbody>\n",
       "    <tr>\n",
       "      <th>0</th>\n",
       "      <td>1</td>\n",
       "      <td>2</td>\n",
       "      <td>2015-06-30</td>\n",
       "      <td>5735</td>\n",
       "      <td>568</td>\n",
       "      <td>1</td>\n",
       "      <td>1</td>\n",
       "      <td>0</td>\n",
       "      <td>train</td>\n",
       "      <td>False</td>\n",
       "    </tr>\n",
       "    <tr>\n",
       "      <th>1</th>\n",
       "      <td>2</td>\n",
       "      <td>2</td>\n",
       "      <td>2015-06-30</td>\n",
       "      <td>9863</td>\n",
       "      <td>877</td>\n",
       "      <td>1</td>\n",
       "      <td>1</td>\n",
       "      <td>0</td>\n",
       "      <td>train</td>\n",
       "      <td>False</td>\n",
       "    </tr>\n",
       "    <tr>\n",
       "      <th>2</th>\n",
       "      <td>3</td>\n",
       "      <td>2</td>\n",
       "      <td>2015-06-30</td>\n",
       "      <td>13261</td>\n",
       "      <td>1072</td>\n",
       "      <td>1</td>\n",
       "      <td>1</td>\n",
       "      <td>1</td>\n",
       "      <td>train</td>\n",
       "      <td>False</td>\n",
       "    </tr>\n",
       "    <tr>\n",
       "      <th>3</th>\n",
       "      <td>4</td>\n",
       "      <td>2</td>\n",
       "      <td>2015-06-30</td>\n",
       "      <td>13106</td>\n",
       "      <td>1488</td>\n",
       "      <td>1</td>\n",
       "      <td>1</td>\n",
       "      <td>0</td>\n",
       "      <td>train</td>\n",
       "      <td>False</td>\n",
       "    </tr>\n",
       "    <tr>\n",
       "      <th>4</th>\n",
       "      <td>5</td>\n",
       "      <td>2</td>\n",
       "      <td>2015-06-30</td>\n",
       "      <td>6635</td>\n",
       "      <td>645</td>\n",
       "      <td>1</td>\n",
       "      <td>1</td>\n",
       "      <td>0</td>\n",
       "      <td>train</td>\n",
       "      <td>False</td>\n",
       "    </tr>\n",
       "  </tbody>\n",
       "</table>\n",
       "</div>"
      ],
      "text/plain": [
       "   Store  DayOfWeek       Date  Sales  Customers  Open  Promo  SchoolHoliday  \\\n",
       "0      1          2 2015-06-30   5735        568     1      1              0   \n",
       "1      2          2 2015-06-30   9863        877     1      1              0   \n",
       "2      3          2 2015-06-30  13261       1072     1      1              1   \n",
       "3      4          2 2015-06-30  13106       1488     1      1              0   \n",
       "4      5          2 2015-06-30   6635        645     1      1              0   \n",
       "\n",
       "  source  Holiday  \n",
       "0  train    False  \n",
       "1  train    False  \n",
       "2  train    False  \n",
       "3  train    False  \n",
       "4  train    False  "
      ]
     },
     "execution_count": 38,
     "metadata": {},
     "output_type": "execute_result"
    }
   ],
   "source": [
    "df_sale1.head()"
   ]
  },
  {
   "cell_type": "code",
   "execution_count": 42,
   "id": "e793bf8f",
   "metadata": {},
   "outputs": [],
   "source": [
    "#Converting the datatype of Holiday column to numeric"
   ]
  },
  {
   "cell_type": "code",
   "execution_count": 40,
   "id": "8590e693",
   "metadata": {},
   "outputs": [],
   "source": [
    "df_sale1['Holiday']=df_sale1['Holiday'].astype('int')"
   ]
  },
  {
   "cell_type": "code",
   "execution_count": 43,
   "id": "d27a4821",
   "metadata": {},
   "outputs": [
    {
     "data": {
      "text/plain": [
       "0    990415\n",
       "1     26794\n",
       "Name: Holiday, dtype: int64"
      ]
     },
     "execution_count": 43,
     "metadata": {},
     "output_type": "execute_result"
    }
   ],
   "source": [
    "df_sale1.Holiday.value_counts()"
   ]
  },
  {
   "cell_type": "markdown",
   "id": "981ce727",
   "metadata": {},
   "source": [
    "Let's extract the year, month,day from Date column"
   ]
  },
  {
   "cell_type": "code",
   "execution_count": 44,
   "id": "afe4a964",
   "metadata": {},
   "outputs": [],
   "source": [
    "df_sale1=df_sale1.assign(year=pd.DatetimeIndex(df_sale1['Date']).year,\n",
    "               month=pd.DatetimeIndex(df_sale1['Date']).month,\n",
    "               day=pd.DatetimeIndex(df_sale1['Date']).day)"
   ]
  },
  {
   "cell_type": "code",
   "execution_count": 45,
   "id": "339cff5d",
   "metadata": {},
   "outputs": [],
   "source": [
    "#Creating a backup\n",
    "df_sale2=df_sale1.copy(deep=True)"
   ]
  },
  {
   "cell_type": "code",
   "execution_count": 46,
   "id": "7a115a47",
   "metadata": {},
   "outputs": [
    {
     "data": {
      "text/html": [
       "<div>\n",
       "<style scoped>\n",
       "    .dataframe tbody tr th:only-of-type {\n",
       "        vertical-align: middle;\n",
       "    }\n",
       "\n",
       "    .dataframe tbody tr th {\n",
       "        vertical-align: top;\n",
       "    }\n",
       "\n",
       "    .dataframe thead th {\n",
       "        text-align: right;\n",
       "    }\n",
       "</style>\n",
       "<table border=\"1\" class=\"dataframe\">\n",
       "  <thead>\n",
       "    <tr style=\"text-align: right;\">\n",
       "      <th></th>\n",
       "      <th>Store</th>\n",
       "      <th>DayOfWeek</th>\n",
       "      <th>Date</th>\n",
       "      <th>Sales</th>\n",
       "      <th>Customers</th>\n",
       "      <th>Open</th>\n",
       "      <th>Promo</th>\n",
       "      <th>SchoolHoliday</th>\n",
       "      <th>source</th>\n",
       "      <th>Holiday</th>\n",
       "      <th>year</th>\n",
       "      <th>month</th>\n",
       "      <th>day</th>\n",
       "    </tr>\n",
       "  </thead>\n",
       "  <tbody>\n",
       "    <tr>\n",
       "      <th>0</th>\n",
       "      <td>1</td>\n",
       "      <td>2</td>\n",
       "      <td>2015-06-30</td>\n",
       "      <td>5735</td>\n",
       "      <td>568</td>\n",
       "      <td>1</td>\n",
       "      <td>1</td>\n",
       "      <td>0</td>\n",
       "      <td>train</td>\n",
       "      <td>0</td>\n",
       "      <td>2015</td>\n",
       "      <td>6</td>\n",
       "      <td>30</td>\n",
       "    </tr>\n",
       "    <tr>\n",
       "      <th>1</th>\n",
       "      <td>2</td>\n",
       "      <td>2</td>\n",
       "      <td>2015-06-30</td>\n",
       "      <td>9863</td>\n",
       "      <td>877</td>\n",
       "      <td>1</td>\n",
       "      <td>1</td>\n",
       "      <td>0</td>\n",
       "      <td>train</td>\n",
       "      <td>0</td>\n",
       "      <td>2015</td>\n",
       "      <td>6</td>\n",
       "      <td>30</td>\n",
       "    </tr>\n",
       "    <tr>\n",
       "      <th>2</th>\n",
       "      <td>3</td>\n",
       "      <td>2</td>\n",
       "      <td>2015-06-30</td>\n",
       "      <td>13261</td>\n",
       "      <td>1072</td>\n",
       "      <td>1</td>\n",
       "      <td>1</td>\n",
       "      <td>1</td>\n",
       "      <td>train</td>\n",
       "      <td>0</td>\n",
       "      <td>2015</td>\n",
       "      <td>6</td>\n",
       "      <td>30</td>\n",
       "    </tr>\n",
       "    <tr>\n",
       "      <th>3</th>\n",
       "      <td>4</td>\n",
       "      <td>2</td>\n",
       "      <td>2015-06-30</td>\n",
       "      <td>13106</td>\n",
       "      <td>1488</td>\n",
       "      <td>1</td>\n",
       "      <td>1</td>\n",
       "      <td>0</td>\n",
       "      <td>train</td>\n",
       "      <td>0</td>\n",
       "      <td>2015</td>\n",
       "      <td>6</td>\n",
       "      <td>30</td>\n",
       "    </tr>\n",
       "    <tr>\n",
       "      <th>4</th>\n",
       "      <td>5</td>\n",
       "      <td>2</td>\n",
       "      <td>2015-06-30</td>\n",
       "      <td>6635</td>\n",
       "      <td>645</td>\n",
       "      <td>1</td>\n",
       "      <td>1</td>\n",
       "      <td>0</td>\n",
       "      <td>train</td>\n",
       "      <td>0</td>\n",
       "      <td>2015</td>\n",
       "      <td>6</td>\n",
       "      <td>30</td>\n",
       "    </tr>\n",
       "  </tbody>\n",
       "</table>\n",
       "</div>"
      ],
      "text/plain": [
       "   Store  DayOfWeek       Date  Sales  Customers  Open  Promo  SchoolHoliday  \\\n",
       "0      1          2 2015-06-30   5735        568     1      1              0   \n",
       "1      2          2 2015-06-30   9863        877     1      1              0   \n",
       "2      3          2 2015-06-30  13261       1072     1      1              1   \n",
       "3      4          2 2015-06-30  13106       1488     1      1              0   \n",
       "4      5          2 2015-06-30   6635        645     1      1              0   \n",
       "\n",
       "  source  Holiday  year  month  day  \n",
       "0  train        0  2015      6   30  \n",
       "1  train        0  2015      6   30  \n",
       "2  train        0  2015      6   30  \n",
       "3  train        0  2015      6   30  \n",
       "4  train        0  2015      6   30  "
      ]
     },
     "execution_count": 46,
     "metadata": {},
     "output_type": "execute_result"
    }
   ],
   "source": [
    "df_sale2.head()"
   ]
  },
  {
   "cell_type": "code",
   "execution_count": 47,
   "id": "a0761e83",
   "metadata": {},
   "outputs": [],
   "source": [
    "#Dropping off the Date column as we donot require it now.\n",
    "\n",
    "df_sale2=df_sale2.drop('Date',axis=1)"
   ]
  },
  {
   "cell_type": "code",
   "execution_count": 48,
   "id": "064459cd",
   "metadata": {},
   "outputs": [],
   "source": [
    "#Checking for linear Relationships"
   ]
  },
  {
   "cell_type": "code",
   "execution_count": 180,
   "id": "0fbdef68",
   "metadata": {},
   "outputs": [
    {
     "data": {
      "image/png": "[encoded data removed]",
      "text/plain": [
       "<Figure size 1980x1980 with 132 Axes>"
      ]
     },
     "metadata": {
      "needs_background": "light"
     },
     "output_type": "display_data"
    }
   ],
   "source": [
    "df_sample=df_sale1.sample(100,random_state=42)\n",
    "\n",
    "sns.pairplot(df_sample)\n",
    "plt.show()"
   ]
  },
  {
   "cell_type": "markdown",
   "id": "541cfde8",
   "metadata": {},
   "source": [
    "We can see that there is a linear relationship between Sales and Customers"
   ]
  },
  {
   "cell_type": "code",
   "execution_count": 49,
   "id": "4f0e837d",
   "metadata": {},
   "outputs": [],
   "source": [
    "#Testing for Correlation"
   ]
  },
  {
   "cell_type": "code",
   "execution_count": 50,
   "id": "ff28881b",
   "metadata": {},
   "outputs": [
    {
     "data": {
      "image/png": "[encoded data removed]",
      "text/plain": [
       "<Figure size 432x288 with 2 Axes>"
      ]
     },
     "metadata": {
      "needs_background": "light"
     },
     "output_type": "display_data"
    }
   ],
   "source": [
    "vcorr=df_sale2.corr()\n",
    "\n",
    "sns.heatmap(vcorr[(vcorr<-0.80) | (vcorr>0.80)],annot=True)\n",
    "plt.show()"
   ]
  },
  {
   "cell_type": "markdown",
   "id": "7d44477c",
   "metadata": {},
   "source": [
    "We can see that there is a strong positive correlation between Sales and Customers."
   ]
  },
  {
   "cell_type": "code",
   "execution_count": 184,
   "id": "6aa3a6ff",
   "metadata": {},
   "outputs": [],
   "source": [
    "#Testing for Normality(Target column)"
   ]
  },
  {
   "cell_type": "code",
   "execution_count": 51,
   "id": "5dff1e09",
   "metadata": {},
   "outputs": [
    {
     "data": {
      "image/png": "[encoded data removed]",
      "text/plain": [
       "<Figure size 432x288 with 1 Axes>"
      ]
     },
     "metadata": {
      "needs_background": "light"
     },
     "output_type": "display_data"
    }
   ],
   "source": [
    "sns.kdeplot(x='Sales',data=df_sale2)\n",
    "plt.show()"
   ]
  },
  {
   "cell_type": "code",
   "execution_count": 52,
   "id": "58de310d",
   "metadata": {},
   "outputs": [
    {
     "data": {
      "text/plain": [
       "0.6414596158103801"
      ]
     },
     "execution_count": 52,
     "metadata": {},
     "output_type": "execute_result"
    }
   ],
   "source": [
    "df_sale2.Sales.skew()"
   ]
  },
  {
   "cell_type": "markdown",
   "id": "954b06da",
   "metadata": {},
   "source": [
    "We can see that it is slightly positively skewed. Let's take logarthimic of the particular column."
   ]
  },
  {
   "cell_type": "code",
   "execution_count": 53,
   "id": "cb047eec",
   "metadata": {},
   "outputs": [],
   "source": [
    "df_sale2['log_sales']=np.log(df_sale2['Sales'])"
   ]
  },
  {
   "cell_type": "code",
   "execution_count": 54,
   "id": "45a4f66f",
   "metadata": {},
   "outputs": [
    {
     "data": {
      "image/png": "[encoded data removed]",
      "text/plain": [
       "<Figure size 432x288 with 1 Axes>"
      ]
     },
     "metadata": {
      "needs_background": "light"
     },
     "output_type": "display_data"
    }
   ],
   "source": [
    "sns.kdeplot(x='log_sales',data=df_sale2)\n",
    "plt.show()"
   ]
  },
  {
   "cell_type": "code",
   "execution_count": 55,
   "id": "b95f5da2",
   "metadata": {},
   "outputs": [],
   "source": [
    "#Checking for the added columns"
   ]
  },
  {
   "cell_type": "code",
   "execution_count": 195,
   "id": "1a95b436",
   "metadata": {},
   "outputs": [
    {
     "data": {
      "text/html": [
       "<div>\n",
       "<style scoped>\n",
       "    .dataframe tbody tr th:only-of-type {\n",
       "        vertical-align: middle;\n",
       "    }\n",
       "\n",
       "    .dataframe tbody tr th {\n",
       "        vertical-align: top;\n",
       "    }\n",
       "\n",
       "    .dataframe thead th {\n",
       "        text-align: right;\n",
       "    }\n",
       "</style>\n",
       "<table border=\"1\" class=\"dataframe\">\n",
       "  <thead>\n",
       "    <tr style=\"text-align: right;\">\n",
       "      <th></th>\n",
       "      <th>Store</th>\n",
       "      <th>DayOfWeek</th>\n",
       "      <th>Sales</th>\n",
       "      <th>Customers</th>\n",
       "      <th>Open</th>\n",
       "      <th>Promo</th>\n",
       "      <th>SchoolHoliday</th>\n",
       "      <th>source</th>\n",
       "      <th>Holiday</th>\n",
       "      <th>year</th>\n",
       "      <th>month</th>\n",
       "      <th>day</th>\n",
       "      <th>log_sales</th>\n",
       "    </tr>\n",
       "  </thead>\n",
       "  <tbody>\n",
       "    <tr>\n",
       "      <th>0</th>\n",
       "      <td>1</td>\n",
       "      <td>2</td>\n",
       "      <td>5735</td>\n",
       "      <td>568</td>\n",
       "      <td>1</td>\n",
       "      <td>1</td>\n",
       "      <td>0</td>\n",
       "      <td>train</td>\n",
       "      <td>0</td>\n",
       "      <td>2015</td>\n",
       "      <td>6</td>\n",
       "      <td>30</td>\n",
       "      <td>8.654343</td>\n",
       "    </tr>\n",
       "    <tr>\n",
       "      <th>1</th>\n",
       "      <td>2</td>\n",
       "      <td>2</td>\n",
       "      <td>9863</td>\n",
       "      <td>877</td>\n",
       "      <td>1</td>\n",
       "      <td>1</td>\n",
       "      <td>0</td>\n",
       "      <td>train</td>\n",
       "      <td>0</td>\n",
       "      <td>2015</td>\n",
       "      <td>6</td>\n",
       "      <td>30</td>\n",
       "      <td>9.196546</td>\n",
       "    </tr>\n",
       "    <tr>\n",
       "      <th>2</th>\n",
       "      <td>3</td>\n",
       "      <td>2</td>\n",
       "      <td>13261</td>\n",
       "      <td>1072</td>\n",
       "      <td>1</td>\n",
       "      <td>1</td>\n",
       "      <td>1</td>\n",
       "      <td>train</td>\n",
       "      <td>0</td>\n",
       "      <td>2015</td>\n",
       "      <td>6</td>\n",
       "      <td>30</td>\n",
       "      <td>9.492583</td>\n",
       "    </tr>\n",
       "    <tr>\n",
       "      <th>3</th>\n",
       "      <td>4</td>\n",
       "      <td>2</td>\n",
       "      <td>13106</td>\n",
       "      <td>1488</td>\n",
       "      <td>1</td>\n",
       "      <td>1</td>\n",
       "      <td>0</td>\n",
       "      <td>train</td>\n",
       "      <td>0</td>\n",
       "      <td>2015</td>\n",
       "      <td>6</td>\n",
       "      <td>30</td>\n",
       "      <td>9.480825</td>\n",
       "    </tr>\n",
       "    <tr>\n",
       "      <th>4</th>\n",
       "      <td>5</td>\n",
       "      <td>2</td>\n",
       "      <td>6635</td>\n",
       "      <td>645</td>\n",
       "      <td>1</td>\n",
       "      <td>1</td>\n",
       "      <td>0</td>\n",
       "      <td>train</td>\n",
       "      <td>0</td>\n",
       "      <td>2015</td>\n",
       "      <td>6</td>\n",
       "      <td>30</td>\n",
       "      <td>8.800114</td>\n",
       "    </tr>\n",
       "  </tbody>\n",
       "</table>\n",
       "</div>"
      ],
      "text/plain": [
       "   Store  DayOfWeek  Sales  Customers  Open  Promo  SchoolHoliday source  \\\n",
       "0      1          2   5735        568     1      1              0  train   \n",
       "1      2          2   9863        877     1      1              0  train   \n",
       "2      3          2  13261       1072     1      1              1  train   \n",
       "3      4          2  13106       1488     1      1              0  train   \n",
       "4      5          2   6635        645     1      1              0  train   \n",
       "\n",
       "   Holiday  year  month  day  log_sales  \n",
       "0        0  2015      6   30   8.654343  \n",
       "1        0  2015      6   30   9.196546  \n",
       "2        0  2015      6   30   9.492583  \n",
       "3        0  2015      6   30   9.480825  \n",
       "4        0  2015      6   30   8.800114  "
      ]
     },
     "execution_count": 195,
     "metadata": {},
     "output_type": "execute_result"
    }
   ],
   "source": [
    "df_sale2.head()"
   ]
  },
  {
   "cell_type": "markdown",
   "id": "bdc673ff",
   "metadata": {},
   "source": [
    "## 3.Separating the Train and Test set"
   ]
  },
  {
   "cell_type": "code",
   "execution_count": 61,
   "id": "bc3c10e8",
   "metadata": {},
   "outputs": [],
   "source": [
    "df_train=df_sale2.loc[df_sale2['source']=='train']\n",
    "df_test=df_sale2.loc[df_sale2['source']=='test']"
   ]
  },
  {
   "cell_type": "code",
   "execution_count": 62,
   "id": "336179bf",
   "metadata": {},
   "outputs": [
    {
     "data": {
      "text/plain": [
       "((982644, 13), (34565, 13))"
      ]
     },
     "execution_count": 62,
     "metadata": {},
     "output_type": "execute_result"
    }
   ],
   "source": [
    "df_train.shape,df_test.shape"
   ]
  },
  {
   "cell_type": "code",
   "execution_count": 64,
   "id": "ee1ffe7c",
   "metadata": {},
   "outputs": [],
   "source": [
    "df_train1=df_train.drop(['source'],axis=1)"
   ]
  },
  {
   "cell_type": "code",
   "execution_count": 67,
   "id": "857f4ecd",
   "metadata": {},
   "outputs": [],
   "source": [
    "df_test1=df_test.drop(['source'],axis=1)"
   ]
  },
  {
   "cell_type": "markdown",
   "id": "f6e66705",
   "metadata": {},
   "source": [
    "## 4.Splitting into X and y"
   ]
  },
  {
   "cell_type": "code",
   "execution_count": 68,
   "id": "09260ed5",
   "metadata": {},
   "outputs": [],
   "source": [
    "X_train=df_train1.drop(['Sales','log_sales'],axis=1)\n",
    "y_train=df_train1[['Sales','log_sales']]"
   ]
  },
  {
   "cell_type": "code",
   "execution_count": 69,
   "id": "7e8afbfa",
   "metadata": {},
   "outputs": [],
   "source": [
    "X_test=df_test1.drop(['Sales','log_sales'],axis=1)\n",
    "y_test=df_test1[['Sales','log_sales']]"
   ]
  },
  {
   "cell_type": "code",
   "execution_count": 70,
   "id": "f845ab5d",
   "metadata": {},
   "outputs": [
    {
     "data": {
      "text/plain": [
       "((982644, 10), (982644, 2), (34565, 10), (34565, 2))"
      ]
     },
     "execution_count": 70,
     "metadata": {},
     "output_type": "execute_result"
    }
   ],
   "source": [
    "X_train.shape,y_train.shape,X_test.shape,y_test.shape"
   ]
  },
  {
   "cell_type": "markdown",
   "id": "3e495764",
   "metadata": {},
   "source": [
    "## 5.Scaling the Data"
   ]
  },
  {
   "cell_type": "code",
   "execution_count": 72,
   "id": "30358a09",
   "metadata": {},
   "outputs": [],
   "source": [
    "sc=StandardScaler()\n",
    "\n",
    "X_train_scaled=sc.fit_transform(X_train)\n",
    "X_test_scaled=sc.transform(X_test)"
   ]
  },
  {
   "cell_type": "markdown",
   "id": "6adab4be",
   "metadata": {},
   "source": [
    "## 7.Model Building"
   ]
  },
  {
   "cell_type": "code",
   "execution_count": 74,
   "id": "401ff0b9",
   "metadata": {},
   "outputs": [],
   "source": [
    "#With sales as target column"
   ]
  },
  {
   "cell_type": "code",
   "execution_count": 78,
   "id": "832aa78a",
   "metadata": {},
   "outputs": [],
   "source": [
    "models=[LinearRegression(),SGDRegressor(),DecisionTreeRegressor(),RandomForestRegressor(),XGBRegressor(dual=False),LGBMRegressor(),GradientBoostingRegressor()]"
   ]
  },
  {
   "cell_type": "code",
   "execution_count": 79,
   "id": "9a6e5124",
   "metadata": {},
   "outputs": [
    {
     "name": "stdout",
     "output_type": "stream",
     "text": [
      "LinearRegression(): \n",
      "MSE_train:  2165919.14\n",
      "MSE_test:  2309289.46\n",
      "RMSE_train:  1471.71\n",
      "RMSE_test:  1519.63\n",
      "R2_score_train:  0.85\n",
      "R2_score_test:  0.82\n",
      "\n",
      "SGDRegressor(): \n",
      "MSE_train:  1.0448513812124894e+28\n",
      "MSE_test:  1.0342975782669863e+28\n",
      "RMSE_train:  102217972060322.6\n",
      "RMSE_test:  101700421742831.84\n",
      "R2_score_train:  -7.021445944228375e+20\n",
      "R2_score_test:  -7.952810788596271e+20\n",
      "\n",
      "DecisionTreeRegressor(): \n",
      "MSE_train:  0.0\n",
      "MSE_test:  1482036.59\n",
      "RMSE_train:  0.0\n",
      "RMSE_test:  1217.39\n",
      "R2_score_train:  1.0\n",
      "R2_score_test:  0.89\n",
      "\n",
      "RandomForestRegressor(): \n",
      "MSE_train:  78522.21\n",
      "MSE_test:  782063.05\n",
      "RMSE_train:  280.22\n",
      "RMSE_test:  884.34\n",
      "R2_score_train:  0.99\n",
      "R2_score_test:  0.94\n",
      "\n",
      "[20:45:58] WARNING: C:/Users/administrator/workspace/xgboost-win64_release_1.6.0/src/learner.cc:627: \n",
      "Parameters: { \"dual\" } might not be used.\n",
      "\n",
      "  This could be a false alarm, with some parameters getting used by language bindings but\n",
      "  then being mistakenly passed down to XGBoost core, or some parameter actually being used\n",
      "  but getting flagged wrongly here. Please open an issue if you find any such cases.\n",
      "\n",
      "\n",
      "XGBRegressor(base_score=0.5, booster='gbtree', callbacks=None,\n",
      "             colsample_bylevel=1, colsample_bynode=1, colsample_bytree=1,\n",
      "             dual=False, early_stopping_rounds=None, enable_categorical=False,\n",
      "             eval_metric=None, gamma=0, gpu_id=-1, grow_policy='depthwise',\n",
      "             importance_type=None, interaction_constraints='',\n",
      "             learning_rate=0.300000012, max_bin=256, max_cat_to_onehot=4,\n",
      "             max_delta_step=0, max_depth=6, max_leaves=0, min_child_weight=1,\n",
      "             missing=nan, monotone_constraints='()', n_estimators=100, n_jobs=0,\n",
      "             num_parallel_tree=1, predictor='auto', random_state=0, reg_alpha=0, ...): \n",
      "MSE_train:  539359.9\n",
      "MSE_test:  683160.85\n",
      "RMSE_train:  734.41\n",
      "RMSE_test:  826.54\n",
      "R2_score_train:  0.96\n",
      "R2_score_test:  0.95\n",
      "\n",
      "LGBMRegressor(): \n",
      "MSE_train:  1235415.27\n",
      "MSE_test:  1478050.13\n",
      "RMSE_train:  1111.49\n",
      "RMSE_test:  1215.75\n",
      "R2_score_train:  0.92\n",
      "R2_score_test:  0.89\n",
      "\n",
      "GradientBoostingRegressor(): \n",
      "MSE_train:  1593709.21\n",
      "MSE_test:  1781603.03\n",
      "RMSE_train:  1262.42\n",
      "RMSE_test:  1334.77\n",
      "R2_score_train:  0.89\n",
      "R2_score_test:  0.86\n",
      "\n"
     ]
    }
   ],
   "source": [
    "for i in range(7):\n",
    "    models[i].fit(X_train,y_train['Sales'])\n",
    "    \n",
    "    print(f'{models[i]}: ')\n",
    "    y_pred_train=models[i].predict(X_train)\n",
    "    y_pred_test=models[i].predict(X_test)\n",
    "    \n",
    "    print('MSE_train: ',round(mean_squared_error(y_train['Sales'],y_pred_train),2))\n",
    "    print('MSE_test: ',round(mean_squared_error(y_test['Sales'],y_pred_test),2))\n",
    "    \n",
    "    print('RMSE_train: ',round(np.sqrt(mean_squared_error(y_train['Sales'],y_pred_train)),2))\n",
    "    print('RMSE_test: ',round(np.sqrt(mean_squared_error(y_test['Sales'],y_pred_test)),2))\n",
    "    \n",
    "    print('R2_score_train: ',round(r2_score(y_train['Sales'],y_pred_train),2))\n",
    "    print('R2_score_test: ',round(r2_score(y_test['Sales'],y_pred_test),2))\n",
    "    \n",
    "    print()"
   ]
  },
  {
   "cell_type": "markdown",
   "id": "29e0eecd",
   "metadata": {},
   "source": [
    "We can see that the XGB Regressor has performed the best with model R2 score of 95%."
   ]
  },
  {
   "cell_type": "markdown",
   "id": "6fb9cd71",
   "metadata": {},
   "source": [
    "Let's try to consider those data points where sales are higher than 0 and rebuild the model."
   ]
  },
  {
   "cell_type": "code",
   "execution_count": 80,
   "id": "46089a70",
   "metadata": {},
   "outputs": [],
   "source": [
    "#Dropping the rows when Sales are 0"
   ]
  },
  {
   "cell_type": "code",
   "execution_count": 81,
   "id": "768bf781",
   "metadata": {},
   "outputs": [],
   "source": [
    "df_sale3=df_sale2.copy(deep=True)"
   ]
  },
  {
   "cell_type": "code",
   "execution_count": 82,
   "id": "6b91e65f",
   "metadata": {},
   "outputs": [],
   "source": [
    "df_sale3=df_sale3[df_sale3['Sales']>0]"
   ]
  },
  {
   "cell_type": "code",
   "execution_count": 83,
   "id": "63313cc6",
   "metadata": {},
   "outputs": [
    {
     "data": {
      "text/plain": [
       "(844338, 13)"
      ]
     },
     "execution_count": 83,
     "metadata": {},
     "output_type": "execute_result"
    }
   ],
   "source": [
    "df_sale3.shape"
   ]
  },
  {
   "cell_type": "code",
   "execution_count": 84,
   "id": "7aefe54a",
   "metadata": {},
   "outputs": [],
   "source": [
    "#Separating the train and test set"
   ]
  },
  {
   "cell_type": "code",
   "execution_count": 85,
   "id": "8369d6d9",
   "metadata": {},
   "outputs": [],
   "source": [
    "df_train=df_sale3.loc[df_sale3['source']=='train']\n",
    "df_test=df_sale3.loc[df_sale3['source']=='test']"
   ]
  },
  {
   "cell_type": "code",
   "execution_count": 86,
   "id": "fe96aaba",
   "metadata": {},
   "outputs": [],
   "source": [
    "df_train2=df_train.drop(['source'],axis=1)"
   ]
  },
  {
   "cell_type": "code",
   "execution_count": 87,
   "id": "f428c6f2",
   "metadata": {},
   "outputs": [],
   "source": [
    "df_test2=df_test.drop(['source'],axis=1)"
   ]
  },
  {
   "cell_type": "code",
   "execution_count": 88,
   "id": "1537cb9c",
   "metadata": {},
   "outputs": [],
   "source": [
    "X_train=df_train2.drop(['Sales','log_sales'],axis=1)\n",
    "y_train=df_train2[['Sales','log_sales']]"
   ]
  },
  {
   "cell_type": "code",
   "execution_count": 90,
   "id": "a3ef37b8",
   "metadata": {},
   "outputs": [],
   "source": [
    "X_test=df_test2.drop(['Sales','log_sales'],axis=1)\n",
    "y_test=df_test2[['Sales','log_sales']]"
   ]
  },
  {
   "cell_type": "code",
   "execution_count": 91,
   "id": "0409aebf",
   "metadata": {},
   "outputs": [],
   "source": [
    "sc=StandardScaler()\n",
    "\n",
    "X_train_scaled=sc.fit_transform(X_train)\n",
    "X_test_scaled=sc.transform(X_test)"
   ]
  },
  {
   "cell_type": "code",
   "execution_count": 92,
   "id": "46403f31",
   "metadata": {},
   "outputs": [],
   "source": [
    "#Model Building using Sales as target column"
   ]
  },
  {
   "cell_type": "code",
   "execution_count": 93,
   "id": "e1465740",
   "metadata": {},
   "outputs": [],
   "source": [
    "models=[LinearRegression(),SGDRegressor(),DecisionTreeRegressor(),RandomForestRegressor(),XGBRegressor(dual=False),LGBMRegressor(),GradientBoostingRegressor()]"
   ]
  },
  {
   "cell_type": "code",
   "execution_count": 94,
   "id": "7acc2418",
   "metadata": {},
   "outputs": [
    {
     "name": "stdout",
     "output_type": "stream",
     "text": [
      "LinearRegression(): \n",
      "MSE_train:  2580287.27\n",
      "MSE_test:  2641200.76\n",
      "RMSE_train:  1606.33\n",
      "RMSE_test:  1625.18\n",
      "R2_score_train:  0.73\n",
      "R2_score_test:  0.69\n",
      "\n",
      "SGDRegressor(): \n",
      "MSE_train:  2582177.52\n",
      "MSE_test:  2654222.18\n",
      "RMSE_train:  1606.92\n",
      "RMSE_test:  1629.18\n",
      "R2_score_train:  0.73\n",
      "R2_score_test:  0.69\n",
      "\n",
      "DecisionTreeRegressor(): \n",
      "MSE_train:  0.0\n",
      "MSE_test:  1779196.8\n",
      "RMSE_train:  0.0\n",
      "RMSE_test:  1333.87\n",
      "R2_score_train:  1.0\n",
      "R2_score_test:  0.79\n",
      "\n",
      "RandomForestRegressor(): \n",
      "MSE_train:  94963.02\n",
      "MSE_test:  904110.78\n",
      "RMSE_train:  308.16\n",
      "RMSE_test:  950.85\n",
      "R2_score_train:  0.99\n",
      "R2_score_test:  0.9\n",
      "\n",
      "[21:55:05] WARNING: C:/Users/administrator/workspace/xgboost-win64_release_1.6.0/src/learner.cc:627: \n",
      "Parameters: { \"dual\" } might not be used.\n",
      "\n",
      "  This could be a false alarm, with some parameters getting used by language bindings but\n",
      "  then being mistakenly passed down to XGBoost core, or some parameter actually being used\n",
      "  but getting flagged wrongly here. Please open an issue if you find any such cases.\n",
      "\n",
      "\n",
      "XGBRegressor(base_score=0.5, booster='gbtree', callbacks=None,\n",
      "             colsample_bylevel=1, colsample_bynode=1, colsample_bytree=1,\n",
      "             dual=False, early_stopping_rounds=None, enable_categorical=False,\n",
      "             eval_metric=None, gamma=0, gpu_id=-1, grow_policy='depthwise',\n",
      "             importance_type=None, interaction_constraints='',\n",
      "             learning_rate=0.300000012, max_bin=256, max_cat_to_onehot=4,\n",
      "             max_delta_step=0, max_depth=6, max_leaves=0, min_child_weight=1,\n",
      "             missing=nan, monotone_constraints='()', n_estimators=100, n_jobs=0,\n",
      "             num_parallel_tree=1, predictor='auto', random_state=0, reg_alpha=0, ...): \n",
      "MSE_train:  603930.97\n",
      "MSE_test:  751801.0\n",
      "RMSE_train:  777.13\n",
      "RMSE_test:  867.06\n",
      "R2_score_train:  0.94\n",
      "R2_score_test:  0.91\n",
      "\n",
      "LGBMRegressor(): \n",
      "MSE_train:  1440793.8\n",
      "MSE_test:  1640666.56\n",
      "RMSE_train:  1200.33\n",
      "RMSE_test:  1280.89\n",
      "R2_score_train:  0.85\n",
      "R2_score_test:  0.81\n",
      "\n",
      "GradientBoostingRegressor(): \n",
      "MSE_train:  1901504.84\n",
      "MSE_test:  2057070.33\n",
      "RMSE_train:  1378.95\n",
      "RMSE_test:  1434.25\n",
      "R2_score_train:  0.8\n",
      "R2_score_test:  0.76\n",
      "\n"
     ]
    }
   ],
   "source": [
    "for i in range(7):\n",
    "    models[i].fit(X_train_scaled,y_train['Sales'])\n",
    "    \n",
    "    print(f'{models[i]}: ')\n",
    "    y_pred_train=models[i].predict(X_train_scaled)\n",
    "    y_pred_test=models[i].predict(X_test_scaled)\n",
    "    \n",
    "    print('MSE_train: ',round(mean_squared_error(y_train['Sales'],y_pred_train),2))\n",
    "    print('MSE_test: ',round(mean_squared_error(y_test['Sales'],y_pred_test),2))\n",
    "    \n",
    "    print('RMSE_train: ',round(np.sqrt(mean_squared_error(y_train['Sales'],y_pred_train)),2))\n",
    "    print('RMSE_test: ',round(np.sqrt(mean_squared_error(y_test['Sales'],y_pred_test)),2))\n",
    "    \n",
    "    print('R2_score_train: ',round(r2_score(y_train['Sales'],y_pred_train),2))\n",
    "    print('R2_score_test: ',round(r2_score(y_test['Sales'],y_pred_test),2))\n",
    "    \n",
    "    print()"
   ]
  },
  {
   "cell_type": "code",
   "execution_count": 97,
   "id": "07d8e101",
   "metadata": {},
   "outputs": [],
   "source": [
    "#Building Models using log Sales as target column"
   ]
  },
  {
   "cell_type": "code",
   "execution_count": 99,
   "id": "e2430550",
   "metadata": {},
   "outputs": [
    {
     "name": "stdout",
     "output_type": "stream",
     "text": [
      "LinearRegression(): \n",
      "MSE_train:  10189906.622305743\n",
      "MSE_test:  10370532.47163515\n",
      "RMSE_train:  3192.1633138524953\n",
      "RMSE_test:  3220.3311121117886\n",
      "R2_score_train:  -0.05368236242664759\n",
      "R2_score_test:  -0.20211072343664171\n",
      "\n",
      "SGDRegressor(): \n",
      "MSE_train:  9227926.204300174\n",
      "MSE_test:  9456945.720068634\n",
      "RMSE_train:  3037.750187935172\n",
      "RMSE_test:  3075.214743732319\n",
      "R2_score_train:  0.04579075710454228\n",
      "R2_score_test:  -0.09621139436635762\n",
      "\n",
      "DecisionTreeRegressor(): \n",
      "MSE_train:  1.5313627160808053e-23\n",
      "MSE_test:  1707925.5734066512\n",
      "RMSE_train:  3.913262981299373e-12\n",
      "RMSE_test:  1306.8762655303872\n",
      "R2_score_train:  1.0\n",
      "R2_score_test:  0.8020240858182193\n",
      "\n",
      "RandomForestRegressor(): \n",
      "MSE_train:  99052.73832708834\n",
      "MSE_test:  853342.0746679966\n",
      "RMSE_train:  314.7264499960058\n",
      "RMSE_test:  923.7651620774603\n",
      "R2_score_train:  0.9897574995342108\n",
      "R2_score_test:  0.9010839933702722\n",
      "\n",
      "[22:42:25] WARNING: C:/Users/administrator/workspace/xgboost-win64_release_1.6.0/src/learner.cc:627: \n",
      "Parameters: { \"dual\" } might not be used.\n",
      "\n",
      "  This could be a false alarm, with some parameters getting used by language bindings but\n",
      "  then being mistakenly passed down to XGBoost core, or some parameter actually being used\n",
      "  but getting flagged wrongly here. Please open an issue if you find any such cases.\n",
      "\n",
      "\n",
      "XGBRegressor(base_score=0.5, booster='gbtree', callbacks=None,\n",
      "             colsample_bylevel=1, colsample_bynode=1, colsample_bytree=1,\n",
      "             dual=False, early_stopping_rounds=None, enable_categorical=False,\n",
      "             eval_metric=None, gamma=0, gpu_id=-1, grow_policy='depthwise',\n",
      "             importance_type=None, interaction_constraints='',\n",
      "             learning_rate=0.300000012, max_bin=256, max_cat_to_onehot=4,\n",
      "             max_delta_step=0, max_depth=6, max_leaves=0, min_child_weight=1,\n",
      "             missing=nan, monotone_constraints='()', n_estimators=100, n_jobs=0,\n",
      "             num_parallel_tree=1, predictor='auto', random_state=0, reg_alpha=0, ...): \n",
      "MSE_train:  610507.6628522497\n",
      "MSE_test:  737113.6938765317\n",
      "RMSE_train:  781.3498978385098\n",
      "RMSE_test:  858.5532562843913\n",
      "R2_score_train:  0.9368707506047617\n",
      "R2_score_test:  0.9145567232710029\n",
      "\n",
      "LGBMRegressor(): \n",
      "MSE_train:  1504831.168521415\n",
      "MSE_test:  1665471.3647168097\n",
      "RMSE_train:  1226.7156021349915\n",
      "RMSE_test:  1290.5314272487942\n",
      "R2_score_train:  0.8443936613481833\n",
      "R2_score_test:  0.8069452082061644\n",
      "\n",
      "GradientBoostingRegressor(): \n",
      "MSE_train:  1956158.0303593832\n",
      "MSE_test:  2116436.8957690476\n",
      "RMSE_train:  1398.6271949162804\n",
      "RMSE_test:  1454.7978882886266\n",
      "R2_score_train:  0.7977244256392865\n",
      "R2_score_test:  0.7546710841666378\n",
      "\n"
     ]
    }
   ],
   "source": [
    " for i in range(7):\n",
    "    models[i].fit(X_train_scaled,y_train['log_sales'])\n",
    "    \n",
    "    print(f'{models[i]}: ')\n",
    "    y_pred_train=models[i].predict(X_train_scaled)\n",
    "    y_pred_exp_train=np.exp(y_pred_train)\n",
    "    y_pred_test=models[i].predict(X_test_scaled)\n",
    "    y_pred_exp_test=np.exp(y_pred_test)\n",
    "    \n",
    "    print('MSE_train: ',mean_squared_error(y_train['Sales'],y_pred_exp_train))\n",
    "    print('MSE_test: ',mean_squared_error(y_test['Sales'],y_pred_exp_test))\n",
    "    \n",
    "    print('RMSE_train: ',np.sqrt(mean_squared_error(y_train['Sales'],y_pred_exp_train)))\n",
    "    print('RMSE_test: ',np.sqrt(mean_squared_error(y_test['Sales'],y_pred_exp_test)))\n",
    "    \n",
    "    print('R2_score_train: ',r2_score(y_train['Sales'],y_pred_exp_train))\n",
    "    print('R2_score_test: ',r2_score(y_test['Sales'],y_pred_exp_test))\n",
    "    \n",
    "    print()"
   ]
  },
  {
   "cell_type": "markdown",
   "id": "beed0d33",
   "metadata": {},
   "source": [
    "We can see that for both the cases, XGBRegressor has performed the best with model R2 score of 91%."
   ]
  }
 ],
 "metadata": {
  "kernelspec": {
   "display_name": "Python 3 (ipykernel)",
   "language": "python",
   "name": "python3"
  },
  "language_info": {
   "codemirror_mode": {
    "name": "ipython",
    "version": 3
   },
   "file_extension": ".py",
   "mimetype": "text/x-python",
   "name": "python",
   "nbconvert_exporter": "python",
   "pygments_lexer": "ipython3",
   "version": "3.9.12"
  }
 },
 "nbformat": 4,
 "nbformat_minor": 5
}
